{
 "cells": [
  {
   "cell_type": "markdown",
   "metadata": {},
   "source": [
    "# Numpy's Limitations Example"
   ]
  },
  {
   "cell_type": "code",
   "execution_count": 33,
   "metadata": {
    "collapsed": true
   },
   "outputs": [],
   "source": [
    "house_data = [['Size of House','Price','City'],\n",
    "              [5000,750,1,1500],\n",
    "              [2,300000,1000000,300000],\n",
    "              ['Brecon','Manchester','London','Leeds']]"
   ]
  },
  {
   "cell_type": "code",
   "execution_count": 34,
   "metadata": {
    "collapsed": true
   },
   "outputs": [],
   "source": [
    "import numpy as np"
   ]
  },
  {
   "cell_type": "code",
   "execution_count": 35,
   "metadata": {
    "collapsed": true
   },
   "outputs": [],
   "source": [
    "np_house_data = np.array(house_data)"
   ]
  },
  {
   "cell_type": "code",
   "execution_count": 36,
   "metadata": {},
   "outputs": [
    {
     "name": "stdout",
     "output_type": "stream",
     "text": [
      "[list(['Size of House', 'Price', 'City']) list([5000, 750, 1, 1500])\n",
      " list([2, 300000, 1000000, 300000])\n",
      " list(['Brecon', 'Manchester', 'London', 'Leeds'])]\n"
     ]
    }
   ],
   "source": [
    "print(np_house_data)"
   ]
  },
  {
   "cell_type": "code",
   "execution_count": 37,
   "metadata": {},
   "outputs": [
    {
     "name": "stdout",
     "output_type": "stream",
     "text": [
      "{'Size of House': [5000, 750, 1, 1500], 'Price': [2, 300000, 1000000, 300000], 'City': ['Brecon', 'Manchester', 'London', 'Leeds']}\n"
     ]
    }
   ],
   "source": [
    "house_data = {'Size of House':[5000,750,1,1500],\n",
    "             'Price':[2,300000,1000000,300000],\n",
    "             'City':['Brecon','Manchester','London','Leeds']}\n",
    "\n",
    "np_house_data = np.array(house_data)\n",
    "\n",
    "print(np_house_data)"
   ]
  },
  {
   "cell_type": "code",
   "execution_count": 38,
   "metadata": {
    "collapsed": true
   },
   "outputs": [],
   "source": [
    "import pandas as pd"
   ]
  },
  {
   "cell_type": "code",
   "execution_count": 39,
   "metadata": {},
   "outputs": [],
   "source": [
    "pd_house_data = pd.DataFrame(house_data)"
   ]
  },
  {
   "cell_type": "code",
   "execution_count": 40,
   "metadata": {},
   "outputs": [
    {
     "name": "stdout",
     "output_type": "stream",
     "text": [
      "         City    Price  Size of House\n",
      "0      Brecon        2           5000\n",
      "1  Manchester   300000            750\n",
      "2      London  1000000              1\n",
      "3       Leeds   300000           1500\n"
     ]
    }
   ],
   "source": [
    "print(pd_house_data)"
   ]
  },
  {
   "cell_type": "markdown",
   "metadata": {},
   "source": [
    "# How to Set the Index Row in Pandas"
   ]
  },
  {
   "cell_type": "code",
   "execution_count": 43,
   "metadata": {},
   "outputs": [],
   "source": [
    "pd_house_data.index = 1,2,3,4"
   ]
  },
  {
   "cell_type": "code",
   "execution_count": 44,
   "metadata": {},
   "outputs": [
    {
     "name": "stdout",
     "output_type": "stream",
     "text": [
      "         City    Price  Size of House\n",
      "1      Brecon        2           5000\n",
      "2  Manchester   300000            750\n",
      "3      London  1000000              1\n",
      "4       Leeds   300000           1500\n"
     ]
    }
   ],
   "source": [
    "print(pd_house_data)"
   ]
  },
  {
   "cell_type": "code",
   "execution_count": 95,
   "metadata": {},
   "outputs": [
    {
     "name": "stdout",
     "output_type": "stream",
     "text": [
      "           City    Price  Size of House\n",
      "BRE      Brecon        2           5000\n",
      "MAN  Manchester   300000            750\n",
      "LON      London  1000000              1\n",
      "LEE       Leeds   300000           1500\n"
     ]
    }
   ],
   "source": [
    "pd_house_data.index = 'BRE','MAN','LON','LEE'\n",
    "print(pd_house_data)"
   ]
  },
  {
   "cell_type": "markdown",
   "metadata": {},
   "source": [
    "# Importing Data with Pandas"
   ]
  },
  {
   "cell_type": "code",
   "execution_count": 50,
   "metadata": {},
   "outputs": [],
   "source": [
    "new_house_data = pd.read_csv('house_data.csv')"
   ]
  },
  {
   "cell_type": "code",
   "execution_count": 51,
   "metadata": {},
   "outputs": [
    {
     "name": "stdout",
     "output_type": "stream",
     "text": [
      "   Unnamed: 0        City    Price  Size of House\n",
      "0           1      Brecon        2           5000\n",
      "1           2  Manchester   300000            750\n",
      "2           3      London  1000000              1\n",
      "3           4       Leeds   300000           1500\n"
     ]
    }
   ],
   "source": [
    "print(new_house_data)"
   ]
  },
  {
   "cell_type": "code",
   "execution_count": 52,
   "metadata": {
    "collapsed": true
   },
   "outputs": [],
   "source": [
    "new_house_data = pd.read_csv('house_data.csv', index_col = 0)"
   ]
  },
  {
   "cell_type": "code",
   "execution_count": 53,
   "metadata": {},
   "outputs": [
    {
     "name": "stdout",
     "output_type": "stream",
     "text": [
      "         City    Price  Size of House\n",
      "1      Brecon        2           5000\n",
      "2  Manchester   300000            750\n",
      "3      London  1000000              1\n",
      "4       Leeds   300000           1500\n"
     ]
    }
   ],
   "source": [
    "print(new_house_data)"
   ]
  },
  {
   "cell_type": "markdown",
   "metadata": {},
   "source": [
    "# Exercise 1\n",
    "## 1. Look at the table about cars below \n",
    "|      |Colour |Year\n",
    "|------|-------|-----\n",
    "|  0   | green |2016\n",
    "|------|-------|------\n",
    "|  1   | blue  |1994\n",
    "|------|-------|-----\n",
    "|  2   | red   |2001\n",
    "|------|-------|------\n",
    "|  3   |yellow |1987\n",
    "|------|-------|-----\n",
    "|  4   |orange |2003\n",
    "\n",
    "\n",
    "\n",
    "\n",
    "## a. Make it into a dictionary called cars\n",
    "## b. Convert it to a pandas data frame save it in a variable pd_cars\n",
    "## c. Change the index values using the .index method to GR, BL, RE, YE, OR\n",
    "\n",
    "## 2. Open the pandas csv file as save it as the variable pandas\n",
    "## b. Format it such that the second column is the index column\n",
    "## c. Change the index column to Yi, Ch, La, Sa, We, Ju\n"
   ]
  },
  {
   "cell_type": "code",
   "execution_count": 234,
   "metadata": {},
   "outputs": [],
   "source": [
    "cars = {'Colour': ['green', 'blue','red','yellow','orange'],\n",
    "        'Year':[2016,1994,2001,1987,2003],\n",
    "       }"
   ]
  },
  {
   "cell_type": "code",
   "execution_count": 235,
   "metadata": {
    "collapsed": true
   },
   "outputs": [],
   "source": [
    "pd_cars = pd.DataFrame(cars)"
   ]
  },
  {
   "cell_type": "code",
   "execution_count": 236,
   "metadata": {},
   "outputs": [
    {
     "name": "stdout",
     "output_type": "stream",
     "text": [
      "   Colour  Year\n",
      "0   green  2016\n",
      "1    blue  1994\n",
      "2     red  2001\n",
      "3  yellow  1987\n",
      "4  orange  2003\n"
     ]
    }
   ],
   "source": [
    "print(pd_cars)"
   ]
  },
  {
   "cell_type": "code",
   "execution_count": 237,
   "metadata": {
    "collapsed": true
   },
   "outputs": [],
   "source": [
    "pd_cars.index = 'GR', 'BL', 'RE', 'YE', 'OR'"
   ]
  },
  {
   "cell_type": "code",
   "execution_count": 238,
   "metadata": {},
   "outputs": [
    {
     "name": "stdout",
     "output_type": "stream",
     "text": [
      "    Colour  Year\n",
      "GR   green  2016\n",
      "BL    blue  1994\n",
      "RE     red  2001\n",
      "YE  yellow  1987\n",
      "OR  orange  2003\n"
     ]
    }
   ],
   "source": [
    "print(pd_cars)"
   ]
  },
  {
   "cell_type": "code",
   "execution_count": 239,
   "metadata": {
    "collapsed": true
   },
   "outputs": [],
   "source": [
    "pandas = pd.read_csv('pandas.csv')"
   ]
  },
  {
   "cell_type": "code",
   "execution_count": 240,
   "metadata": {},
   "outputs": [
    {
     "name": "stdout",
     "output_type": "stream",
     "text": [
      "   Age Unnamed: 1  Weight\n",
      "0    2       Ying     1.8\n",
      "1    5       Chao     3.4\n",
      "2   14        Lan     8.7\n",
      "3    3        San     2.2\n",
      "4    7        Wei     4.3\n",
      "5    1        Jun     0.9\n"
     ]
    }
   ],
   "source": [
    "print(pandas)"
   ]
  },
  {
   "cell_type": "code",
   "execution_count": 241,
   "metadata": {
    "collapsed": true
   },
   "outputs": [],
   "source": [
    "pandas = pd.read_csv('pandas.csv', index_col = 1)"
   ]
  },
  {
   "cell_type": "code",
   "execution_count": 242,
   "metadata": {},
   "outputs": [
    {
     "name": "stdout",
     "output_type": "stream",
     "text": [
      "      Age  Weight\n",
      "Ying    2     1.8\n",
      "Chao    5     3.4\n",
      "Lan    14     8.7\n",
      "San     3     2.2\n",
      "Wei     7     4.3\n",
      "Jun     1     0.9\n"
     ]
    }
   ],
   "source": [
    "print(pandas)"
   ]
  },
  {
   "cell_type": "code",
   "execution_count": 243,
   "metadata": {
    "collapsed": true
   },
   "outputs": [],
   "source": [
    "pandas.index = 'Yi', 'Ch', 'La', 'Sa', 'We', 'Ju'"
   ]
  },
  {
   "cell_type": "code",
   "execution_count": 244,
   "metadata": {},
   "outputs": [
    {
     "name": "stdout",
     "output_type": "stream",
     "text": [
      "    Age  Weight\n",
      "Yi    2     1.8\n",
      "Ch    5     3.4\n",
      "La   14     8.7\n",
      "Sa    3     2.2\n",
      "We    7     4.3\n",
      "Ju    1     0.9\n"
     ]
    }
   ],
   "source": [
    "print(pandas)"
   ]
  },
  {
   "cell_type": "markdown",
   "metadata": {},
   "source": [
    "# Accessing Data From Pandas Data Frames"
   ]
  },
  {
   "cell_type": "markdown",
   "metadata": {},
   "source": [
    "### Suppose we only wanted to see the size of the houses how could we only access the size of house column?\n"
   ]
  },
  {
   "cell_type": "code",
   "execution_count": 62,
   "metadata": {},
   "outputs": [
    {
     "name": "stdout",
     "output_type": "stream",
     "text": [
      "1    5000\n",
      "2     750\n",
      "3       1\n",
      "4    1500\n",
      "Name: Size of House, dtype: int64\n"
     ]
    }
   ],
   "source": [
    "print(new_house_data['Size of House'])"
   ]
  },
  {
   "cell_type": "code",
   "execution_count": 63,
   "metadata": {},
   "outputs": [
    {
     "data": {
      "text/plain": [
       "pandas.core.series.Series"
      ]
     },
     "execution_count": 63,
     "metadata": {},
     "output_type": "execute_result"
    }
   ],
   "source": [
    "type(new_house_data['Size of House'])"
   ]
  },
  {
   "cell_type": "code",
   "execution_count": 64,
   "metadata": {},
   "outputs": [
    {
     "name": "stdout",
     "output_type": "stream",
     "text": [
      "   Size of House\n",
      "1           5000\n",
      "2            750\n",
      "3              1\n",
      "4           1500\n"
     ]
    }
   ],
   "source": [
    "print(new_house_data[['Size of House']])"
   ]
  },
  {
   "cell_type": "code",
   "execution_count": 65,
   "metadata": {},
   "outputs": [
    {
     "data": {
      "text/plain": [
       "pandas.core.frame.DataFrame"
      ]
     },
     "execution_count": 65,
     "metadata": {},
     "output_type": "execute_result"
    }
   ],
   "source": [
    "type(new_house_data[['Size of House']])"
   ]
  },
  {
   "cell_type": "markdown",
   "metadata": {},
   "source": [
    "### How can we select more than one column?"
   ]
  },
  {
   "cell_type": "code",
   "execution_count": 66,
   "metadata": {},
   "outputs": [
    {
     "name": "stdout",
     "output_type": "stream",
     "text": [
      "   Size of House        City\n",
      "1           5000      Brecon\n",
      "2            750  Manchester\n",
      "3              1      London\n",
      "4           1500       Leeds\n"
     ]
    }
   ],
   "source": [
    "print(new_house_data[['Size of House', 'City']])"
   ]
  },
  {
   "cell_type": "markdown",
   "metadata": {},
   "source": [
    "### How to subset rows in pandas?"
   ]
  },
  {
   "cell_type": "code",
   "execution_count": 70,
   "metadata": {},
   "outputs": [
    {
     "name": "stdout",
     "output_type": "stream",
     "text": [
      "     City    Price  Size of House\n",
      "3  London  1000000              1\n"
     ]
    }
   ],
   "source": [
    "print(new_house_data['London']) #slice"
   ]
  },
  {
   "cell_type": "code",
   "execution_count": 245,
   "metadata": {},
   "outputs": [
    {
     "name": "stdout",
     "output_type": "stream",
     "text": [
      "     City    Price  Size of House\n",
      "3  London  1000000              1\n"
     ]
    }
   ],
   "source": [
    "print(new_house_data[2:3]) "
   ]
  },
  {
   "cell_type": "markdown",
   "metadata": {},
   "source": [
    "# loc and iloc"
   ]
  },
  {
   "cell_type": "markdown",
   "metadata": {},
   "source": [
    "## loc is label based, iloc is postion based"
   ]
  },
  {
   "cell_type": "code",
   "execution_count": 74,
   "metadata": {},
   "outputs": [
    {
     "name": "stdout",
     "output_type": "stream",
     "text": [
      "         City    Price  Size of House\n",
      "1      Brecon        2           5000\n",
      "2  Manchester   300000            750\n",
      "3      London  1000000              1\n",
      "4       Leeds   300000           1500\n"
     ]
    }
   ],
   "source": [
    "print(new_house_data)"
   ]
  },
  {
   "cell_type": "code",
   "execution_count": 80,
   "metadata": {},
   "outputs": [
    {
     "name": "stdout",
     "output_type": "stream",
     "text": [
      "City             Brecon\n",
      "Price                 2\n",
      "Size of House      5000\n",
      "Name: 1, dtype: object\n"
     ]
    }
   ],
   "source": [
    "print(new_house_data.loc[1]) #double brackets"
   ]
  },
  {
   "cell_type": "code",
   "execution_count": 81,
   "metadata": {},
   "outputs": [
    {
     "name": "stdout",
     "output_type": "stream",
     "text": [
      "         City    Price  Size of House\n",
      "W      Brecon        2           5000\n",
      "E  Manchester   300000            750\n",
      "E      London  1000000              1\n",
      "E       Leeds   300000           1500\n"
     ]
    }
   ],
   "source": [
    "print(pd_house_data)"
   ]
  },
  {
   "cell_type": "code",
   "execution_count": 96,
   "metadata": {},
   "outputs": [
    {
     "name": "stdout",
     "output_type": "stream",
     "text": [
      "       City  Price  Size of House\n",
      "BRE  Brecon      2           5000\n"
     ]
    }
   ],
   "source": [
    "print(pd_house_data.loc[['BRE']])"
   ]
  },
  {
   "cell_type": "code",
   "execution_count": 97,
   "metadata": {},
   "outputs": [
    {
     "name": "stdout",
     "output_type": "stream",
     "text": [
      "     City  Price  Size of House\n",
      "1  Brecon      2           5000\n"
     ]
    }
   ],
   "source": [
    "print(new_house_data.iloc[[0]])"
   ]
  },
  {
   "cell_type": "code",
   "execution_count": 98,
   "metadata": {},
   "outputs": [
    {
     "name": "stdout",
     "output_type": "stream",
     "text": [
      "       City  Price  Size of House\n",
      "BRE  Brecon      2           5000\n"
     ]
    }
   ],
   "source": [
    "print(pd_house_data.iloc[[0]])"
   ]
  },
  {
   "cell_type": "markdown",
   "metadata": {},
   "source": [
    "### Selecting multiple rows"
   ]
  },
  {
   "cell_type": "code",
   "execution_count": 100,
   "metadata": {},
   "outputs": [
    {
     "name": "stdout",
     "output_type": "stream",
     "text": [
      "         City   Price  Size of House\n",
      "2  Manchester  300000            750\n",
      "4       Leeds  300000           1500\n"
     ]
    }
   ],
   "source": [
    "print(new_house_data.loc[[2,4]])"
   ]
  },
  {
   "cell_type": "code",
   "execution_count": 89,
   "metadata": {},
   "outputs": [
    {
     "name": "stdout",
     "output_type": "stream",
     "text": [
      "         City   Price  Size of House\n",
      "2  Manchester  300000            750\n",
      "4       Leeds  300000           1500\n"
     ]
    }
   ],
   "source": [
    "print(new_house_data.iloc[[1,3]])"
   ]
  },
  {
   "cell_type": "code",
   "execution_count": 90,
   "metadata": {},
   "outputs": [
    {
     "name": "stdout",
     "output_type": "stream",
     "text": [
      "         City  Size of House\n",
      "2  Manchester            750\n",
      "4       Leeds           1500\n"
     ]
    }
   ],
   "source": [
    "print(new_house_data.loc[[2,4],['City','Size of House']])"
   ]
  },
  {
   "cell_type": "code",
   "execution_count": 92,
   "metadata": {},
   "outputs": [
    {
     "name": "stdout",
     "output_type": "stream",
     "text": [
      "         City  Size of House\n",
      "2  Manchester            750\n",
      "4       Leeds           1500\n"
     ]
    }
   ],
   "source": [
    "print(new_house_data.iloc[[1,3],[0,2]])"
   ]
  },
  {
   "cell_type": "code",
   "execution_count": 93,
   "metadata": {},
   "outputs": [
    {
     "name": "stdout",
     "output_type": "stream",
     "text": [
      "         City  Size of House\n",
      "1      Brecon           5000\n",
      "2  Manchester            750\n",
      "3      London              1\n",
      "4       Leeds           1500\n"
     ]
    }
   ],
   "source": [
    "print(new_house_data.loc[:,['City','Size of House']])"
   ]
  },
  {
   "cell_type": "code",
   "execution_count": 94,
   "metadata": {},
   "outputs": [
    {
     "name": "stdout",
     "output_type": "stream",
     "text": [
      "         City  Size of House\n",
      "1      Brecon           5000\n",
      "2  Manchester            750\n",
      "3      London              1\n",
      "4       Leeds           1500\n"
     ]
    }
   ],
   "source": [
    "print(new_house_data.iloc[:,[0,2]])"
   ]
  },
  {
   "cell_type": "markdown",
   "metadata": {},
   "source": [
    "# Exercise 2\n",
    "\n",
    "## 1. Open the countries4 csv file and save it as the variable countries\n",
    "## Make sure to put one space after the country when indexing e.g. 'Argentina' should be 'Argentina  '.\n",
    "## 2. What is the name of the 27th country on the list (hint it's at index 26)?\n",
    "## 3. Which country has a higher population, bulgaria or colombia?\n",
    "## 4. What is the area of Burkina Faso? (leave a space after area i.e 'Area ')\n"
   ]
  },
  {
   "cell_type": "markdown",
   "metadata": {},
   "source": [
    "# Answers\n",
    "## 1. countries = pd.read_csv('countries4.csv', index_col = 0)\n",
    "## 2. Brunei\n",
    "## 3. Colombia\n",
    "## 4. 274200"
   ]
  },
  {
   "cell_type": "code",
   "execution_count": 182,
   "metadata": {
    "scrolled": true
   },
   "outputs": [],
   "source": [
    "countries = pd.read_csv('countries4.csv', index_col = 0)"
   ]
  },
  {
   "cell_type": "markdown",
   "metadata": {},
   "source": [
    "# Filtering Pandas Data Frames\n",
    "## Suppose we wanted to know all the countries whose area was less than 1000"
   ]
  },
  {
   "cell_type": "code",
   "execution_count": 185,
   "metadata": {},
   "outputs": [
    {
     "data": {
      "text/plain": [
       "Afghanistan               647500\n",
       "Albania                    28748\n",
       "Algeria                  2381740\n",
       "Anguilla                     102\n",
       "Antigua & Barbuda            443\n",
       "Argentina                2766890\n",
       "Armenia                    29800\n",
       "Aruba                        193\n",
       "Australia                7686850\n",
       "Austria                    83870\n",
       "Azerbaijan                 86600\n",
       "Bahamas, The               13940\n",
       "Bahrain                      665\n",
       "Bangladesh                144000\n",
       "Barbados                     431\n",
       "Belarus                   207600\n",
       "Belgium                    30528\n",
       "Belize                     22966\n",
       "Benin                     112620\n",
       "Bermuda                       53\n",
       "Bhutan                     47000\n",
       "Bolivia                  1098580\n",
       "Bosnia & Herzegovina       51129\n",
       "Botswana                  600370\n",
       "Brazil                   8511965\n",
       "British Virgin Is.           153\n",
       "Brunei                      5770\n",
       "Bulgaria                  110910\n",
       "Burkina Faso              274200\n",
       "Burma                     678500\n",
       "Burundi                    27830\n",
       "Cambodia                  181040\n",
       "Cameroon                  475440\n",
       "Canada                   9984670\n",
       "Cape Verde                  4033\n",
       "Cayman Islands               262\n",
       "Central African Rep.      622984\n",
       "Chad                     1284000\n",
       "Chile                     756950\n",
       "China                    9596960\n",
       "Colombia                 1138910\n",
       "Comoros                     2170\n",
       "Congo, Dem. Rep.         2345410\n",
       "Congo, Repub. of the      342000\n",
       "Name: Area , dtype: int64"
      ]
     },
     "execution_count": 185,
     "metadata": {},
     "output_type": "execute_result"
    }
   ],
   "source": [
    "countries['Area '] "
   ]
  },
  {
   "cell_type": "code",
   "execution_count": 192,
   "metadata": {},
   "outputs": [],
   "source": [
    "small = countries['Area '] < 1000"
   ]
  },
  {
   "cell_type": "code",
   "execution_count": 193,
   "metadata": {},
   "outputs": [
    {
     "data": {
      "text/html": [
       "<div>\n",
       "<style>\n",
       "    .dataframe thead tr:only-child th {\n",
       "        text-align: right;\n",
       "    }\n",
       "\n",
       "    .dataframe thead th {\n",
       "        text-align: left;\n",
       "    }\n",
       "\n",
       "    .dataframe tbody tr th {\n",
       "        vertical-align: top;\n",
       "    }\n",
       "</style>\n",
       "<table border=\"1\" class=\"dataframe\">\n",
       "  <thead>\n",
       "    <tr style=\"text-align: right;\">\n",
       "      <th></th>\n",
       "      <th>Population</th>\n",
       "      <th>Area</th>\n",
       "      <th>Pop. Density</th>\n",
       "    </tr>\n",
       "  </thead>\n",
       "  <tbody>\n",
       "    <tr>\n",
       "      <th>Anguilla</th>\n",
       "      <td>13477</td>\n",
       "      <td>102</td>\n",
       "      <td>132.1</td>\n",
       "    </tr>\n",
       "    <tr>\n",
       "      <th>Antigua &amp; Barbuda</th>\n",
       "      <td>69108</td>\n",
       "      <td>443</td>\n",
       "      <td>156.0</td>\n",
       "    </tr>\n",
       "    <tr>\n",
       "      <th>Aruba</th>\n",
       "      <td>71891</td>\n",
       "      <td>193</td>\n",
       "      <td>372.5</td>\n",
       "    </tr>\n",
       "    <tr>\n",
       "      <th>Bahrain</th>\n",
       "      <td>698585</td>\n",
       "      <td>665</td>\n",
       "      <td>1050.5</td>\n",
       "    </tr>\n",
       "    <tr>\n",
       "      <th>Barbados</th>\n",
       "      <td>279912</td>\n",
       "      <td>431</td>\n",
       "      <td>649.5</td>\n",
       "    </tr>\n",
       "    <tr>\n",
       "      <th>Bermuda</th>\n",
       "      <td>65773</td>\n",
       "      <td>53</td>\n",
       "      <td>1241.0</td>\n",
       "    </tr>\n",
       "    <tr>\n",
       "      <th>British Virgin Is.</th>\n",
       "      <td>23098</td>\n",
       "      <td>153</td>\n",
       "      <td>151.0</td>\n",
       "    </tr>\n",
       "    <tr>\n",
       "      <th>Cayman Islands</th>\n",
       "      <td>45436</td>\n",
       "      <td>262</td>\n",
       "      <td>173.4</td>\n",
       "    </tr>\n",
       "  </tbody>\n",
       "</table>\n",
       "</div>"
      ],
      "text/plain": [
       "                     Population  Area   Pop. Density \n",
       "Anguilla                  13477    102          132.1\n",
       "Antigua & Barbuda         69108    443          156.0\n",
       "Aruba                     71891    193          372.5\n",
       "Bahrain                  698585    665         1050.5\n",
       "Barbados                 279912    431          649.5\n",
       "Bermuda                   65773     53         1241.0\n",
       "British Virgin Is.        23098    153          151.0\n",
       "Cayman Islands            45436    262          173.4"
      ]
     },
     "execution_count": 193,
     "metadata": {},
     "output_type": "execute_result"
    }
   ],
   "source": [
    "countries[small]"
   ]
  },
  {
   "cell_type": "code",
   "execution_count": 194,
   "metadata": {},
   "outputs": [
    {
     "data": {
      "text/html": [
       "<div>\n",
       "<style>\n",
       "    .dataframe thead tr:only-child th {\n",
       "        text-align: right;\n",
       "    }\n",
       "\n",
       "    .dataframe thead th {\n",
       "        text-align: left;\n",
       "    }\n",
       "\n",
       "    .dataframe tbody tr th {\n",
       "        vertical-align: top;\n",
       "    }\n",
       "</style>\n",
       "<table border=\"1\" class=\"dataframe\">\n",
       "  <thead>\n",
       "    <tr style=\"text-align: right;\">\n",
       "      <th></th>\n",
       "      <th>Population</th>\n",
       "      <th>Area</th>\n",
       "      <th>Pop. Density</th>\n",
       "    </tr>\n",
       "  </thead>\n",
       "  <tbody>\n",
       "    <tr>\n",
       "      <th>Anguilla</th>\n",
       "      <td>13477</td>\n",
       "      <td>102</td>\n",
       "      <td>132.1</td>\n",
       "    </tr>\n",
       "    <tr>\n",
       "      <th>Antigua &amp; Barbuda</th>\n",
       "      <td>69108</td>\n",
       "      <td>443</td>\n",
       "      <td>156.0</td>\n",
       "    </tr>\n",
       "    <tr>\n",
       "      <th>Aruba</th>\n",
       "      <td>71891</td>\n",
       "      <td>193</td>\n",
       "      <td>372.5</td>\n",
       "    </tr>\n",
       "    <tr>\n",
       "      <th>Bahrain</th>\n",
       "      <td>698585</td>\n",
       "      <td>665</td>\n",
       "      <td>1050.5</td>\n",
       "    </tr>\n",
       "    <tr>\n",
       "      <th>Barbados</th>\n",
       "      <td>279912</td>\n",
       "      <td>431</td>\n",
       "      <td>649.5</td>\n",
       "    </tr>\n",
       "    <tr>\n",
       "      <th>Bermuda</th>\n",
       "      <td>65773</td>\n",
       "      <td>53</td>\n",
       "      <td>1241.0</td>\n",
       "    </tr>\n",
       "    <tr>\n",
       "      <th>British Virgin Is.</th>\n",
       "      <td>23098</td>\n",
       "      <td>153</td>\n",
       "      <td>151.0</td>\n",
       "    </tr>\n",
       "    <tr>\n",
       "      <th>Cayman Islands</th>\n",
       "      <td>45436</td>\n",
       "      <td>262</td>\n",
       "      <td>173.4</td>\n",
       "    </tr>\n",
       "  </tbody>\n",
       "</table>\n",
       "</div>"
      ],
      "text/plain": [
       "                     Population  Area   Pop. Density \n",
       "Anguilla                  13477    102          132.1\n",
       "Antigua & Barbuda         69108    443          156.0\n",
       "Aruba                     71891    193          372.5\n",
       "Bahrain                  698585    665         1050.5\n",
       "Barbados                 279912    431          649.5\n",
       "Bermuda                   65773     53         1241.0\n",
       "British Virgin Is.        23098    153          151.0\n",
       "Cayman Islands            45436    262          173.4"
      ]
     },
     "execution_count": 194,
     "metadata": {},
     "output_type": "execute_result"
    }
   ],
   "source": [
    "countries[countries['Area '] < 1000]"
   ]
  },
  {
   "cell_type": "markdown",
   "metadata": {},
   "source": [
    "## Suppose I wanted to find the countries with areas less than 1000 and populations greater than 200,000"
   ]
  },
  {
   "cell_type": "code",
   "execution_count": 200,
   "metadata": {},
   "outputs": [],
   "source": [
    "dense = np.logical_and(countries['Area '] < 1000, countries['Population'] > 200000 )"
   ]
  },
  {
   "cell_type": "code",
   "execution_count": 201,
   "metadata": {},
   "outputs": [
    {
     "name": "stdout",
     "output_type": "stream",
     "text": [
      "           Population  Area   Pop. Density \n",
      "Bahrain        698585    665         1050.5\n",
      "Barbados       279912    431          649.5\n"
     ]
    }
   ],
   "source": [
    "print(countries[dense])"
   ]
  },
  {
   "cell_type": "code",
   "execution_count": 203,
   "metadata": {},
   "outputs": [
    {
     "name": "stdout",
     "output_type": "stream",
     "text": [
      "           Population  Area   Pop. Density \n",
      "Bahrain        698585    665         1050.5\n",
      "Barbados       279912    431          649.5\n"
     ]
    }
   ],
   "source": [
    "print(countries[np.logical_and(countries['Area '] < 1000, countries['Population'] > 200000 )])"
   ]
  },
  {
   "cell_type": "markdown",
   "metadata": {},
   "source": [
    "# Exercise 3\n",
    "## 1. How many countries have a population density ('Pop. Density ') over or an area 1000 ? (use the inbuilt len function)\n",
    "## 2. Which country has an area of exactly 53? (Hint use == )\n",
    "## 3.  Which country has a population of more than 9million but less than 10million and an area of more than 1 million but less than 1.5 million"
   ]
  },
  {
   "cell_type": "code",
   "execution_count": 209,
   "metadata": {},
   "outputs": [
    {
     "name": "stdout",
     "output_type": "stream",
     "text": [
      "38\n"
     ]
    }
   ],
   "source": [
    "print(len(countries[np.logical_or(countries['Pop. Density '] >1000, countries['Area '] >1000)]))"
   ]
  },
  {
   "cell_type": "code",
   "execution_count": 211,
   "metadata": {},
   "outputs": [
    {
     "name": "stdout",
     "output_type": "stream",
     "text": [
      "          Population  Area   Pop. Density \n",
      "Bermuda        65773     53         1241.0\n"
     ]
    }
   ],
   "source": [
    "print(countries[countries['Area ']==53])"
   ]
  },
  {
   "cell_type": "code",
   "execution_count": 218,
   "metadata": {},
   "outputs": [],
   "source": [
    "pop_array = np.logical_and(countries['Population'] >9000000, countries['Population'] <10000000)"
   ]
  },
  {
   "cell_type": "code",
   "execution_count": 224,
   "metadata": {
    "collapsed": true
   },
   "outputs": [],
   "source": [
    "area_array = np.logical_and(countries['Area '] >1000000, countries['Area '] <1500000) "
   ]
  },
  {
   "cell_type": "code",
   "execution_count": 225,
   "metadata": {},
   "outputs": [
    {
     "data": {
      "text/html": [
       "<div>\n",
       "<style>\n",
       "    .dataframe thead tr:only-child th {\n",
       "        text-align: right;\n",
       "    }\n",
       "\n",
       "    .dataframe thead th {\n",
       "        text-align: left;\n",
       "    }\n",
       "\n",
       "    .dataframe tbody tr th {\n",
       "        vertical-align: top;\n",
       "    }\n",
       "</style>\n",
       "<table border=\"1\" class=\"dataframe\">\n",
       "  <thead>\n",
       "    <tr style=\"text-align: right;\">\n",
       "      <th></th>\n",
       "      <th>Population</th>\n",
       "      <th>Area</th>\n",
       "      <th>Pop. Density</th>\n",
       "    </tr>\n",
       "  </thead>\n",
       "  <tbody>\n",
       "    <tr>\n",
       "      <th>Chad</th>\n",
       "      <td>9944201</td>\n",
       "      <td>1284000</td>\n",
       "      <td>7.7</td>\n",
       "    </tr>\n",
       "  </tbody>\n",
       "</table>\n",
       "</div>"
      ],
      "text/plain": [
       "       Population    Area   Pop. Density \n",
       "Chad      9944201  1284000            7.7"
      ]
     },
     "execution_count": 225,
     "metadata": {},
     "output_type": "execute_result"
    }
   ],
   "source": [
    "countries[np.logical_and(pop_array,area_array)]"
   ]
  },
  {
   "cell_type": "code",
   "execution_count": null,
   "metadata": {
    "collapsed": true
   },
   "outputs": [],
   "source": [
    " "
   ]
  }
 ],
 "metadata": {
  "kernelspec": {
   "display_name": "Python 3",
   "language": "python",
   "name": "python3"
  },
  "language_info": {
   "codemirror_mode": {
    "name": "ipython",
    "version": 3
   },
   "file_extension": ".py",
   "mimetype": "text/x-python",
   "name": "python",
   "nbconvert_exporter": "python",
   "pygments_lexer": "ipython3",
   "version": "3.6.1"
  }
 },
 "nbformat": 4,
 "nbformat_minor": 2
}
