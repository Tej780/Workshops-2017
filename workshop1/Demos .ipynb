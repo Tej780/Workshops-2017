{
 "cells": [
  {
   "cell_type": "markdown",
   "metadata": {},
   "source": [
    "# Demos"
   ]
  },
  {
   "cell_type": "code",
   "execution_count": null,
   "metadata": {
    "collapsed": true
   },
   "outputs": [],
   "source": []
  },
  {
   "cell_type": "markdown",
   "metadata": {},
   "source": [
    "## Function Demo"
   ]
  },
  {
   "cell_type": "code",
   "execution_count": 23,
   "metadata": {},
   "outputs": [
    {
     "name": "stdout",
     "output_type": "stream",
     "text": [
      "hello world\n"
     ]
    }
   ],
   "source": [
    "def print_hello_world():\n",
    "    print(\"hello world\")\n",
    "\n",
    "def square_number(x):\n",
    "    return x**2\n",
    "    \n",
    "def run_function(func):\n",
    "    func()\n",
    "    \n",
    "test_function()\n",
    "#print(square_number(5))\n",
    "#run_function(test_function)"
   ]
  },
  {
   "cell_type": "markdown",
   "metadata": {},
   "source": [
    "## Method Demo"
   ]
  },
  {
   "cell_type": "code",
   "execution_count": 25,
   "metadata": {},
   "outputs": [],
   "source": [
    "class nonsense_string(str):\n",
    "    def nonsense(self):\n",
    "        print('owiefosbflsbeofi')\n",
    "        \n",
    "nonsense = nonsense_string('hello')\n",
    "#print(nonsense)\n",
    "#nonsense.nonsense()"
   ]
  },
  {
   "cell_type": "markdown",
   "metadata": {},
   "source": [
    "## Control Flow"
   ]
  },
  {
   "cell_type": "code",
   "execution_count": 31,
   "metadata": {},
   "outputs": [
    {
     "name": "stdout",
     "output_type": "stream",
     "text": [
      "### IF ###\n",
      "if statement runs\n",
      "### WHILE ###\n",
      "c = 0\n",
      "c = 1\n",
      "c = 2\n",
      "c = 3\n",
      "c = 4\n",
      "c = 5\n",
      "c = 6\n",
      "c = 7\n",
      "c = 8\n",
      "c = 9\n",
      "### FOR ###\n",
      "d = 1\n",
      "d = 2\n",
      "d = 3\n",
      "d = 4\n",
      "d = 5\n"
     ]
    }
   ],
   "source": [
    "print(\"### IF ###\")\n",
    "a = 5\n",
    "b = 4\n",
    "if a > b:\n",
    "    print(\"if statement runs\")\n",
    "\n",
    "print(\"### WHILE ###\")\n",
    "c = 0\n",
    "while c < 10:\n",
    "    print(\"c =\", c)\n",
    "    c += 1\n",
    "    \n",
    "print(\"### FOR ###\")\n",
    "dlist = [1, 2, 3, 4, 5]\n",
    "for d in dlist:\n",
    "    print('d =', d)"
   ]
  },
  {
   "cell_type": "markdown",
   "metadata": {},
   "source": [
    "## Loop demo\n",
    "\n",
    "Shows just how slow Python loops are compared to implementing the same problem in one of the packages."
   ]
  },
  {
   "cell_type": "code",
   "execution_count": 20,
   "metadata": {},
   "outputs": [
    {
     "name": "stdout",
     "output_type": "stream",
     "text": [
      "0:00:03.786814\n"
     ]
    }
   ],
   "source": [
    "import numpy as np \n",
    "from datetime import datetime\n",
    "# This version is using Python for loops\n",
    "testArray = np.zeros(shape=(10000, 1000))\n",
    "\n",
    "start = datetime.now()\n",
    "\n",
    "for i in range(len(testArray)):\n",
    "    for j in range(len(testArray[0])):\n",
    "        testArray[i][j] = 1\n",
    "\n",
    "end = datetime.now()\n",
    "\n",
    "print(end - start)"
   ]
  },
  {
   "cell_type": "code",
   "execution_count": 21,
   "metadata": {},
   "outputs": [
    {
     "name": "stdout",
     "output_type": "stream",
     "text": [
      "0:00:00.029610\n"
     ]
    }
   ],
   "source": [
    "# This version is using numpy \n",
    "testArray = np.zeros(shape=(10000, 1000))\n",
    "\n",
    "start = datetime.now()\n",
    "\n",
    "testArray[::] = 0\n",
    "\n",
    "end = datetime.now()\n",
    "\n",
    "print(end - start)"
   ]
  },
  {
   "cell_type": "markdown",
   "metadata": {},
   "source": [
    "# Native Python Programming Questions\n",
    "## Question 1: Prime Numbers up to k\n",
    "Write a function to return a list of primes up to k"
   ]
  },
  {
   "cell_type": "code",
   "execution_count": 6,
   "metadata": {},
   "outputs": [],
   "source": [
    "def my_prime_generator(n):\n",
    "    # write your function here! \n",
    "    return \n",
    "\n",
    "\n",
    "n = 1000\n",
    "primes_solution = [2, 3, 5, 7, 11, 13, 17, 19, 23, 29, 31, 37, 41, 43, 47, 53, 59, 61, 67, 71, 73, 79, 83, 89, 97, 101, 103, 107, 109, 113, 127, 131, 137, 139, 149, 151, 157, 163, 167, 173, 179, 181, 191, 193, 197, 199, 211, 223, 227, 229, 233, 239, 241, 251, 257, 263, 269, 271, 277, 281, 283, 293, 307, 311, 313, 317, 331, 337, 347, 349, 353, 359, 367, 373, 379, 383, 389, 397, 401, 409, 419, 421, 431, 433, 439, 443, 449, 457, 461, 463, 467, 479, 487, 491, 499, 503, 509, 521, 523, 541, 547, 557, 563, 569, 571, 577, 587, 593, 599, 601, 607, 613, 617, 619, 631, 641, 643, 647, 653, 659, 661, 673, 677, 683, 691, 701, 709, 719, 727, 733, 739, 743, 751, 757, 761, 769, 773, 787, 797, 809, 811, 821, 823, 827, 829, 839, 853, 857, 859, 863, 877, 881, 883, 887, 907, 911, 919, 929, 937, 941, 947, 953, 967, 971, 977, 983, 991, 997]"
   ]
  },
  {
   "cell_type": "markdown",
   "metadata": {},
   "source": [
    "## Question 2: Coin Sums\n",
    "In England the currency is made up of pound, £, and pence, p, and there are eight coins in general circulation:\n",
    "\n",
    "    1p, 2p, 5p, 10p, 20p, 50p, £1 (100p) and £2 (200p).\n",
    "\n",
    "It is possible to make £2 in the following way:\n",
    "\n",
    "    1×£1 + 1×50p + 2×20p + 1×5p + 1×2p + 3×1p\n",
    "\n",
    "How many different ways can £2 be made using any number of coins? (Source: Project Euler)"
   ]
  },
  {
   "cell_type": "code",
   "execution_count": 17,
   "metadata": {
    "collapsed": true
   },
   "outputs": [],
   "source": [
    "coin_answer = 73682"
   ]
  },
  {
   "cell_type": "markdown",
   "metadata": {},
   "source": [
    "## Question 3: Cubic Permutations\n",
    "\n",
    "The cube, 41063625 (3453), can be permuted to produce two other cubes: 56623104 (3843) and 66430125 (4053). In fact, 41063625 is the smallest cube which has exactly three permutations of its digits which are also cube.\n",
    "\n",
    "Find the smallest cube for which exactly five permutations of its digits are cube.\n",
    "(Source: Project Euler)"
   ]
  },
  {
   "cell_type": "code",
   "execution_count": 16,
   "metadata": {
    "collapsed": true
   },
   "outputs": [],
   "source": [
    "cubic_answer = 127035954683"
   ]
  },
  {
   "cell_type": "markdown",
   "metadata": {},
   "source": [
    "# Solutions\n",
    "If you're stuck, take a look.\n",
    "\n",
    "Both of the primes solutions are valid, the first is faster, the second is easier to understand. A note on sequences - sequence notation is as seq[start:end:step], so sieve[bottom::si] means start at bottom and step si places each time. "
   ]
  },
  {
   "cell_type": "code",
   "execution_count": 15,
   "metadata": {
    "collapsed": true
   },
   "outputs": [],
   "source": [
    "def rwh_primes(n):\n",
    "    # https://stackoverflow.com/questions/2068372/fastest-way-to-list-all-primes-below-n-in-python/3035188#3035188\n",
    "    \"\"\" Returns  a list of primes < n \"\"\"\n",
    "    sieve = [True] * n\n",
    "    for i in xrange(3,int(n**0.5)+1,2):\n",
    "        if sieve[i]:\n",
    "            sieve[i*i::2*i]=[False]*((n-i*i-1)/(2*i)+1)\n",
    "    return [2] + [i for i in xrange(3,n,2) if sieve[i]]\n",
    "\n",
    "def sieveOfEratosthenes(n):\n",
    "    \"\"\"sieveOfEratosthenes(n): return the list of the primes < n.\"\"\"\n",
    "    # Code from: <dickinsm@gmail.com>, Nov 30 2006\n",
    "    # http://groups.google.com/group/comp.lang.python/msg/f1f10ced88c68c2d\n",
    "    if n <= 2:\n",
    "        return []\n",
    "    sieve = range(3, n, 2)\n",
    "    top = len(sieve)\n",
    "    for si in sieve:\n",
    "        if si:\n",
    "            bottom = (si*si - 3) // 2\n",
    "            if bottom >= top:\n",
    "                break\n",
    "            sieve[bottom::si] = [0] * -((bottom - top) // si)\n",
    "    return [2] + [el for el in sieve if el]"
   ]
  },
  {
   "cell_type": "code",
   "execution_count": 13,
   "metadata": {},
   "outputs": [
    {
     "name": "stdout",
     "output_type": "stream",
     "text": [
      "Smallest cube = 127035954683\n"
     ]
    }
   ],
   "source": [
    "#Project Euler Problem 62\n",
    "# https://blog.dreamshire.com/project-euler-62-solution/\n",
    "digits, min_cube, n, d = '', float('Inf'), 100, 5\n",
    "cubes = {}\n",
    "\n",
    "while min_cube == float('Inf') or len(digits) <= len(str(min_cube)):\n",
    "    c = n*n*n\n",
    "    digits = ''.join(sorted(str(c)))\n",
    "    if digits in cubes:\n",
    "        cubes[digits] += [c]\n",
    "        if len(cubes[digits]) == d:\n",
    "            min_cube = min(min_cube, cubes[digits][0])\n",
    "    else:\n",
    "        cubes[digits] = [c]\n",
    "    n += 1    \n",
    "\n",
    "print(\"Smallest cube =\", min_cube)"
   ]
  },
  {
   "cell_type": "code",
   "execution_count": 14,
   "metadata": {},
   "outputs": [
    {
     "name": "stdout",
     "output_type": "stream",
     "text": [
      "Ways to make change = 73682\n"
     ]
    }
   ],
   "source": [
    "# Project Euler Problem 31\n",
    "# https://blog.dreamshire.com/project-euler-31-solution/\n",
    "target = 200\n",
    "coins = [1, 2, 5, 10, 20, 50, 100, 200]\n",
    "ways = [1] + [0]*target\n",
    "\n",
    "for coin in coins:\n",
    "    for i in range(coin, target+1):\n",
    "        ways[i] += ways[i-coin]\n",
    "\n",
    "print(\"Ways to make change =\", ways[target])"
   ]
  }
 ],
 "metadata": {
  "kernelspec": {
   "display_name": "Python 3",
   "language": "python",
   "name": "python3"
  },
  "language_info": {
   "codemirror_mode": {
    "name": "ipython",
    "version": 3
   },
   "file_extension": ".py",
   "mimetype": "text/x-python",
   "name": "python",
   "nbconvert_exporter": "python",
   "pygments_lexer": "ipython3",
   "version": "3.6.2"
  }
 },
 "nbformat": 4,
 "nbformat_minor": 2
}
